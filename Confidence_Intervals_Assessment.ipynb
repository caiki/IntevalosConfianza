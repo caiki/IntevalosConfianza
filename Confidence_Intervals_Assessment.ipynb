{
  "nbformat": 4,
  "nbformat_minor": 0,
  "metadata": {
    "colab": {
      "provenance": [],
      "collapsed_sections": [],
      "authorship_tag": "ABX9TyPvuI+u8DPOcSaGijOy8v+a",
      "include_colab_link": true
    },
    "kernelspec": {
      "name": "python3",
      "display_name": "Python 3"
    },
    "language_info": {
      "name": "python"
    }
  },
  "cells": [
    {
      "cell_type": "markdown",
      "metadata": {
        "id": "view-in-github",
        "colab_type": "text"
      },
      "source": [
        "<a href=\"https://colab.research.google.com/github/caiki/IntevalosConfianza/blob/main/Confidence_Intervals_Assessment.ipynb\" target=\"_parent\"><img src=\"https://colab.research.google.com/assets/colab-badge.svg\" alt=\"Open In Colab\"/></a>"
      ]
    },
    {
      "cell_type": "markdown",
      "source": [
        "# Confidence intervals in python\n",
        "In this assessment, you will look at data from a study on toddler sleep habits. \n",
        "\n",
        "The confidence intervals you create and the questions you answer in this Jupyter notebook will be used to answer questions in the following graded assignment."
      ],
      "metadata": {
        "id": "fbTbRpiRNfXI"
      }
    },
    {
      "cell_type": "code",
      "source": [
        "import numpy as np\n",
        "import pandas as pd\n",
        "from scipy.stats import t\n",
        "pd.set_option('display.max_columns', 30) # set so can see all columns of the DataFrame"
      ],
      "metadata": {
        "id": "DRp5DNBMNxIe"
      },
      "execution_count": 1,
      "outputs": []
    },
    {
      "cell_type": "markdown",
      "source": [
        "Your goal is to analyse data which is the result of a study that examined\n",
        "differences in a number of sleep variables between napping and non-napping toddlers. Some of these\n",
        "sleep variables included: Bedtime (lights-off time in decimalized time), Night Sleep Onset Time (in\n",
        "decimalized time), Wake Time (sleep end time in decimalized time), Night Sleep Duration (interval\n",
        "between sleep onset and sleep end in minutes), and Total 24-Hour Sleep Duration (in minutes). Note:\n",
        "[Decimalized time](https://en.wikipedia.org/wiki/Decimal_time) is the representation of the time of day using units which are decimally related.   \n",
        "\n",
        "\n",
        "The 20 study participants were healthy, normally developing toddlers with no sleep or behavioral\n",
        "problems. These children were categorized as napping or non-napping based upon parental report of\n",
        "children’s habitual sleep patterns. Researchers then verified napping status with data from actigraphy (a\n",
        "non-invasive method of monitoring human rest/activity cycles by wearing of a sensor on the wrist) and\n",
        "sleep diaries during the 5 days before the study assessments were made.\n",
        "\n",
        "\n",
        "You are specifically interested in the results for Bedtime."
      ],
      "metadata": {
        "id": "7XyfaCaiN5LV"
      }
    },
    {
      "cell_type": "markdown",
      "source": [
        "Reference: Akacem LD, Simpkin CT, Carskadon MA, Wright KP Jr, Jenni OG, Achermann P, et al. (2015) The Timing of the Circadian Clock and Sleep Differ between Napping and Non-Napping Toddlers. PLoS ONE 10(4): e0125181. https://doi.org/10.1371/journal.pone.0125181"
      ],
      "metadata": {
        "id": "89MyYWKIOQ-3"
      }
    },
    {
      "cell_type": "code",
      "source": [
        "# Import the data\n",
        "df = pd.read_csv(\"nap_no_nap.csv\")"
      ],
      "metadata": {
        "id": "DmipGUwzOT5M"
      },
      "execution_count": null,
      "outputs": []
    },
    {
      "cell_type": "code",
      "source": [
        "# First, look at the DataFrame to get a sense of the data\n",
        "df"
      ],
      "metadata": {
        "id": "qUIo2qV0OWvN"
      },
      "execution_count": null,
      "outputs": []
    },
    {
      "cell_type": "markdown",
      "source": [
        "**Question**: What value is used in the column 'napping' to indicate a toddler takes a nap? (see reference article)  \n",
        "**Question**: What is the overall sample size $n$? What is the sample size for toddlers who nap, $n_1$, and toddlers who don't nap, $n_2$?"
      ],
      "metadata": {
        "id": "w-uxaUx4Oi9s"
      }
    },
    {
      "cell_type": "markdown",
      "source": [
        "### Average bedtime confidence interval for napping and non napping toddlers\n",
        "Create two 95% confidence intervals for the average bedtime, one for toddler who nap and one for toddlers who don't. \n",
        "- First, isolate the column 'night bedtime' for those who nap into a new variable, and those who didn't nap into another new variable. "
      ],
      "metadata": {
        "id": "EAc4BEtcSttt"
      }
    },
    {
      "cell_type": "code",
      "source": [
        "bedtime_nap = "
      ],
      "metadata": {
        "id": "NPbcLwp8OdP1"
      },
      "execution_count": null,
      "outputs": []
    },
    {
      "cell_type": "code",
      "source": [
        "bedtime_no_nap = "
      ],
      "metadata": {
        "id": "OLiVzKPATHLm"
      },
      "execution_count": null,
      "outputs": []
    },
    {
      "cell_type": "markdown",
      "source": [
        "# Confidence Intervals Assessment\n"
      ],
      "metadata": {
        "id": "fRX_Ys2S_k6E"
      }
    },
    {
      "cell_type": "markdown",
      "source": [
        "What numerical value in the column 'napping' indicates that a toddler takes a nap?"
      ],
      "metadata": {
        "id": "HainLu9L_qvk"
      }
    },
    {
      "cell_type": "markdown",
      "source": [
        "What is the sample size 𝑛?"
      ],
      "metadata": {
        "id": "cJ-319ta_0iv"
      }
    },
    {
      "cell_type": "markdown",
      "source": [
        "What is the sample size for toddlers who nap, 𝑛1?"
      ],
      "metadata": {
        "id": "F54vIrgj_3UU"
      }
    },
    {
      "cell_type": "markdown",
      "source": [
        "What is the sample size for toddler who do not nap, 𝑛2?"
      ],
      "metadata": {
        "id": "XF6czMyh_54M"
      }
    },
    {
      "cell_type": "markdown",
      "source": [
        "Given our sample sizes of n1 and n2 for napping and non-napping toddlers respectively, how many degrees of freedom (𝑑𝑓) are there for the associated 𝑡distributions?\n",
        "\n",
        "Note your answer in the following format: x, y"
      ],
      "metadata": {
        "id": "CwWRyetXAFHN"
      }
    },
    {
      "cell_type": "markdown",
      "source": [
        "What is 𝑡* for nap and no nap?\n",
        "\n",
        "(Note your answer in the following format truncated after the third decimal place: #.###, #.###)"
      ],
      "metadata": {
        "id": "mIv7krz8AJa8"
      }
    },
    {
      "cell_type": "markdown",
      "source": [
        "What is the 95% confidence interval for the average bedtime for toddlers who nap?\n",
        "\n",
        "(Note your answer rounded to four decimal places)"
      ],
      "metadata": {
        "id": "kvlAsj8hNAI9"
      }
    },
    {
      "cell_type": "markdown",
      "source": [
        "What is the 95% confidence interval for the average bedtime for toddlers who do not nap?\n",
        "\n",
        " Note your answer rounded to four decimal places)"
      ],
      "metadata": {
        "id": "6bjaNDYwNEMO"
      }
    }
  ]
}