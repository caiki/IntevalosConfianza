{
  "nbformat": 4,
  "nbformat_minor": 0,
  "metadata": {
    "colab": {
      "provenance": [],
      "authorship_tag": "ABX9TyPF8To/7NvWbjwh60kzxtcU",
      "include_colab_link": true
    },
    "kernelspec": {
      "name": "python3",
      "display_name": "Python 3"
    },
    "language_info": {
      "name": "python"
    }
  },
  "cells": [
    {
      "cell_type": "markdown",
      "metadata": {
        "id": "view-in-github",
        "colab_type": "text"
      },
      "source": [
        "<a href=\"https://colab.research.google.com/github/caiki/IntevalosConfianza/blob/main/Confidence_Intervals_Assessment.ipynb\" target=\"_parent\"><img src=\"https://colab.research.google.com/assets/colab-badge.svg\" alt=\"Open In Colab\"/></a>"
      ]
    },
    {
      "cell_type": "markdown",
      "source": [
        "# Confidence Intervals Assessment\n"
      ],
      "metadata": {
        "id": "fRX_Ys2S_k6E"
      }
    },
    {
      "cell_type": "markdown",
      "source": [
        "What numerical value in the column 'napping' indicates that a toddler takes a nap?"
      ],
      "metadata": {
        "id": "HainLu9L_qvk"
      }
    },
    {
      "cell_type": "markdown",
      "source": [
        "What is the sample size 𝑛?"
      ],
      "metadata": {
        "id": "cJ-319ta_0iv"
      }
    },
    {
      "cell_type": "markdown",
      "source": [
        "What is the sample size for toddlers who nap, 𝑛1?"
      ],
      "metadata": {
        "id": "F54vIrgj_3UU"
      }
    },
    {
      "cell_type": "markdown",
      "source": [
        "What is the sample size for toddler who do not nap, 𝑛2?"
      ],
      "metadata": {
        "id": "XF6czMyh_54M"
      }
    },
    {
      "cell_type": "markdown",
      "source": [
        "Given our sample sizes of n1 and n2 for napping and non-napping toddlers respectively, how many degrees of freedom (𝑑𝑓) are there for the associated 𝑡distributions?\n",
        "\n",
        "Note your answer in the following format: x, y"
      ],
      "metadata": {
        "id": "CwWRyetXAFHN"
      }
    },
    {
      "cell_type": "markdown",
      "source": [
        "What is 𝑡* for nap and no nap?\n",
        "\n",
        "(Note your answer in the following format truncated after the third decimal place: #.###, #.###)"
      ],
      "metadata": {
        "id": "mIv7krz8AJa8"
      }
    }
  ]
}